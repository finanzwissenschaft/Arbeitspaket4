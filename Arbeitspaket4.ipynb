{
 "cells": [
  {
   "cell_type": "code",
   "execution_count": 1,
   "id": "0eaddada-634a-4d1b-a715-24da032f4ab3",
   "metadata": {},
   "outputs": [],
   "source": [
    "from __future__ import print_function\n",
    "from ipywidgets import interact, interactive, fixed, interact_manual\n",
    "import ipywidgets as widgets\n",
    "from ipywidgets import Box\n",
    "from IPython.core.display import HTML\n",
    "from IPython.display import IFrame\n",
    "\n",
    "import matplotlib.pyplot as plt\n",
    "import numpy as np\n",
    "import math\n",
    "\n",
    "import builtins"
   ]
  },
  {
   "cell_type": "code",
   "execution_count": 2,
   "id": "2f42df4d-457f-49b1-9e64-257e0971f38d",
   "metadata": {},
   "outputs": [
    {
     "data": {
      "application/vnd.jupyter.widget-view+json": {
       "model_id": "ff602979e55645fa89b5d609677b4f39",
       "version_major": 2,
       "version_minor": 0
      },
      "text/plain": [
       "A Jupyter Widget"
      ]
     },
     "metadata": {},
     "output_type": "display_data"
    }
   ],
   "source": [
    "file = builtins.open(\"Bilder/Logo.png\", \"rb\")\n",
    "image = file.read()\n",
    "bild_Logo = widgets.Image(\n",
    "    value=image,\n",
    "    format='png',\n",
    "    width=200,\n",
    "   #height=128,\n",
    "    )\n",
    "bild_Logo"
   ]
  },
  {
   "cell_type": "markdown",
   "id": "47dc917e-3078-416f-8189-2c6c62105eba",
   "metadata": {},
   "source": [
    "# <span style=\"font-family:Century Gothic;color:DarkCyan\">Arbeitsblatt 4</span>"
   ]
  },
  {
   "cell_type": "markdown",
   "id": "2be8f8c3-4dc3-4a49-8e4b-6ee48a7b3f04",
   "metadata": {},
   "source": [
    "## <span style=\"font-family:Century Gothic;color:DarkCyan\">Aufgabe 1</span>\n",
    "Ein Unternehmen produziert $x$ T-Shirts mit der Gewinnfunktion $\\pi_U (x)= -x^2+12x-8$. Bei der Produktion kommt es immer wieder dazu, dass Abfälle und Chemikalien in den nebenan gelegenen Fluss geleitet werden. Dieser Fluss ist jedoch essentiell für eine Fischerin der Stadt, um Fische zum Verkauf zu angeln. Die Gewinnfunktion der Fischerin lautet: $\\pi_F (x)=16-4x$.\n",
    "\n",
    "### <span style=\"font-family:Century Gothic;color:DarkCyan\">Aufgabe 1.1</span>\n",
    "Welche Menge an T-Shirts $x$ produziert das Unternehmen, wenn seine Abfälle und Chemikalien keine Konsequenzen für das Unternehmen haben?"
   ]
  },
  {
   "cell_type": "code",
   "execution_count": 3,
   "id": "1afa3b4f-d383-4a91-b889-e3d6afd97d9c",
   "metadata": {},
   "outputs": [
    {
     "data": {
      "application/vnd.jupyter.widget-view+json": {
       "model_id": "fdb0b24bb3b0406eb4372b976500a91c",
       "version_major": 2,
       "version_minor": 0
      },
      "text/plain": [
       "A Jupyter Widget"
      ]
     },
     "metadata": {},
     "output_type": "display_data"
    }
   ],
   "source": [
    "text_6 = widgets.IntText(\n",
    "    value=0,\n",
    "    description='T-Shirts',\n",
    "    disabled=False\n",
    ")\n",
    "\n",
    "\n",
    "button_6 = widgets.Button(\n",
    "    description='Auswertung',\n",
    "    disabled=False,\n",
    "    button_style='', # 'success', 'info', 'warning', 'danger' or ''\n",
    "    tooltip='Bitte klicken.',\n",
    "    #icon='check' # (FontAwesome names without the `fa-` prefix)\n",
    ")\n",
    "\n",
    "\n",
    "# define function\n",
    "def check(button_instance):\n",
    "  if text_6.value  == 6:\n",
    "    button_6.button_style = 'success'\n",
    "    button_6.description = 'Richtig!'\n",
    "  else:\n",
    "    button_6.button_style = 'danger'\n",
    "    button_6.description = 'Leider falsch.'\n",
    "\n",
    "# set function as on_click on button\n",
    "button_6.on_click(check)\n",
    "\n",
    "# nebeneinander in Box anzeigen\n",
    "items = [text_6, button_6]\n",
    "box_6 = Box(children=items)\n",
    "display(box_6) # <- this one command displays all children"
   ]
  },
  {
   "cell_type": "markdown",
   "id": "670eaab8-94f5-4197-a86e-51f857bf2a47",
   "metadata": {},
   "source": [
    "### <span style=\"font-family:Century Gothic;color:DarkCyan\">Aufgabe 1.2</span>\n",
    "Wie hoch ist die sozial optimale Produktionsmenge $x^*$?"
   ]
  },
  {
   "cell_type": "code",
   "execution_count": 4,
   "id": "bd7bc083-2453-440b-8eab-8ca0e34cfa6f",
   "metadata": {},
   "outputs": [
    {
     "data": {
      "application/vnd.jupyter.widget-view+json": {
       "model_id": "48c699b62a49409dab371ed753704a1e",
       "version_major": 2,
       "version_minor": 0
      },
      "text/plain": [
       "A Jupyter Widget"
      ]
     },
     "metadata": {},
     "output_type": "display_data"
    }
   ],
   "source": [
    "text_7 = widgets.IntText(\n",
    "    value=0,\n",
    "    description='T-Shirts',\n",
    "    disabled=False\n",
    ")\n",
    "\n",
    "\n",
    "button_7 = widgets.Button(\n",
    "    description='Auswertung',\n",
    "    disabled=False,\n",
    "    button_style='', # 'success', 'info', 'warning', 'danger' or ''\n",
    "    tooltip='Bitte klicken.',\n",
    "    #icon='check' # (FontAwesome names without the `fa-` prefix)\n",
    ")\n",
    "\n",
    "\n",
    "# define function\n",
    "def check(button_instance):\n",
    "  if text_7.value  == 4:\n",
    "    button_7.button_style = 'success'\n",
    "    button_7.description = 'Richtig!'\n",
    "  else:\n",
    "    button_7.button_style = 'danger'\n",
    "    button_7.description = 'Leider falsch.'\n",
    "\n",
    "# set function as on_click on button\n",
    "button_7.on_click(check)\n",
    "\n",
    "# nebeneinander in Box anzeigen\n",
    "items = [text_7, button_7]\n",
    "box_7 = Box(children=items)\n",
    "display(box_7) # <- this one command displays all children"
   ]
  },
  {
   "cell_type": "markdown",
   "id": "93f4e869-1d6b-4c75-949e-ffd1aa678ec3",
   "metadata": {},
   "source": [
    "### <span style=\"font-family:Century Gothic;color:DarkCyan\">Aufgabe 1.3</span>\n",
    "Vergleichen Sie die Gesamtwohlfahrt, die sich aus den beiden Produktionsmengen $x^*$ und $x^{so}$ ergibt. Würde ein an der Gesamtwohlfahrt orientierter Staat in diesem Beispiel als Akteur aktiv werden?"
   ]
  },
  {
   "cell_type": "code",
   "execution_count": 5,
   "id": "3b6293f6-6211-42a4-abd6-f8d0d2321f53",
   "metadata": {},
   "outputs": [
    {
     "data": {
      "application/vnd.jupyter.widget-view+json": {
       "model_id": "78e06b27c82844c3ae5ac9b130574ce9",
       "version_major": 2,
       "version_minor": 0
      },
      "text/plain": [
       "A Jupyter Widget"
      ]
     },
     "metadata": {},
     "output_type": "display_data"
    },
    {
     "name": "stdout",
     "output_type": "stream",
     "text": [
      "Gesamtwohlfahrt\n"
     ]
    }
   ],
   "source": [
    "def f(x):\n",
    "    return -x**2 + 8*x + 8\n",
    "\n",
    "interact(f, x=(0,10,1));\n",
    "print('Gesamtwohlfahrt')"
   ]
  },
  {
   "cell_type": "markdown",
   "id": "7d5bb4c4-ca09-413f-a49a-7bbf050eea77",
   "metadata": {},
   "source": [
    "### <span style=\"font-family:Century Gothic;color:DarkCyan\">Aufgabe 1.4</span>\n",
    "Der Staat entschließt sich, eine Steuer $t$ auf jedes produzierte T-Shirt einzuführen, um das soziale Optimum zu erreichen. Wie hoch muss diese Steuer $t$ gewählt werden? "
   ]
  },
  {
   "cell_type": "code",
   "execution_count": 6,
   "id": "41e69011-c9f0-4d88-9594-f4cd36b278ef",
   "metadata": {},
   "outputs": [
    {
     "data": {
      "application/vnd.jupyter.widget-view+json": {
       "model_id": "3b726727a4054a73b19d30dbb92fc6b2",
       "version_major": 2,
       "version_minor": 0
      },
      "text/plain": [
       "A Jupyter Widget"
      ]
     },
     "metadata": {},
     "output_type": "display_data"
    }
   ],
   "source": [
    "text_8 = widgets.IntText(\n",
    "    value=0,\n",
    "    description='Steuersatz',\n",
    "    disabled=False\n",
    ")\n",
    "\n",
    "button_8 = widgets.Button(\n",
    "    description='Auswertung',\n",
    "    disabled=False,\n",
    "    button_style='', # 'success', 'info', 'warning', 'danger' or ''\n",
    "    tooltip='Bitte klicken.',\n",
    "    #icon='check' # (FontAwesome names without the `fa-` prefix)\n",
    ")\n",
    "\n",
    "# define function\n",
    "def check(button_instance):\n",
    "  if text_8.value  == 4:\n",
    "    button_8.button_style = 'success'\n",
    "    button_8.description = 'Richtig!'\n",
    "  else:\n",
    "    button_8.button_style = 'danger'\n",
    "    button_8.description = 'Leider falsch.'\n",
    "\n",
    "# set function as on_click on button\n",
    "button_8.on_click(check)\n",
    "\n",
    "# nebeneinander in Box anzeigen\n",
    "items = [text_8, button_8]\n",
    "box_8 = Box(children=items)\n",
    "display(box_8) # <- this one command displays all children"
   ]
  },
  {
   "cell_type": "markdown",
   "id": "7dceeba4-b0e6-4702-9ad4-5345e1b142ba",
   "metadata": {},
   "source": [
    "## <span style=\"font-family:Century Gothic;color:DarkCyan\">Aufgabe 2</span>\n",
    "Der Staat beschließt die Einführung einer CO<sub>2</sub>-Steuer. Die Höhe dieser Steuer soll 50 € pro Tonne CO<sub>2</sub> ($z$) betragen, wobei $z$  einer emittierten Tonne CO<sub>2</sub> entspricht.  \n",
    "\n",
    "### <span style=\"font-family:Century Gothic;color:DarkCyan\">Aufgabe 2.1</span>\n",
    "Welchen Betrag für die CO<sub>2</sub>-Steuer muss ein Marktteilnehmer bezahlen, der $z$ Tonnen CO<sub>2</sub> emittiert? "
   ]
  },
  {
   "cell_type": "code",
   "execution_count": 7,
   "id": "32abe937-f392-47c9-a514-1c8622cc8177",
   "metadata": {},
   "outputs": [
    {
     "data": {
      "application/vnd.jupyter.widget-view+json": {
       "model_id": "acb7b7e55d034c50ac2252d155c100a9",
       "version_major": 2,
       "version_minor": 0
      },
      "text/plain": [
       "A Jupyter Widget"
      ]
     },
     "metadata": {},
     "output_type": "display_data"
    }
   ],
   "source": [
    "accordion_mg = widgets.Accordion([\n",
    "    widgets.Label(\n",
    "    value=\"$T(z) = 50z$ mit Bemessungsgrundlage $z$ (Tonnen $CO_2$) und Steuerschuld $T$\"\n",
    "    )], selected_index=None)\n",
    "accordion_mg.set_title(0, 'Lösung')\n",
    "\n",
    "accordion_mg"
   ]
  },
  {
   "cell_type": "markdown",
   "id": "9af508d5-b222-4584-a55c-bbea5697567b",
   "metadata": {},
   "source": [
    "### <span style=\"font-family:Century Gothic;color:DarkCyan\">Aufgabe 2.2</span>\n",
    "Die Individuen Jürgen, Jessica und Justus haben die unten abgebildeten Lebensumstände. Berechnen Sie den CO<sub>2</sub>-Verbrauch für jedes dieser Individuen mithilfe des CO<sub>2</sub>-Rechners des Umweltbundesamtes: https://uba.co2-rechner.de/de_DE/"
   ]
  },
  {
   "cell_type": "code",
   "execution_count": 8,
   "id": "66d62dbe-adc0-4ca2-ab4b-c1846db64033",
   "metadata": {},
   "outputs": [
    {
     "data": {
      "application/vnd.jupyter.widget-view+json": {
       "model_id": "857080ffa7fd4879a33489efafd44616",
       "version_major": 2,
       "version_minor": 0
      },
      "text/plain": [
       "A Jupyter Widget"
      ]
     },
     "metadata": {},
     "output_type": "display_data"
    }
   ],
   "source": [
    "file = builtins.open(\"Bilder/Folie1.JPG\", \"rb\")\n",
    "image = file.read()\n",
    "bild_CO1 = widgets.Image(\n",
    "    value=image,\n",
    "    format='png',\n",
    "    width=700,\n",
    "   #height=128,\n",
    "    )\n",
    "bild_CO1"
   ]
  },
  {
   "cell_type": "code",
   "execution_count": 9,
   "id": "e5c3a6fd-04ee-4808-96a4-6e68274429a8",
   "metadata": {},
   "outputs": [
    {
     "data": {
      "application/vnd.jupyter.widget-view+json": {
       "model_id": "d5435bd835cf4b86a99c387b5717baf7",
       "version_major": 2,
       "version_minor": 0
      },
      "text/plain": [
       "A Jupyter Widget"
      ]
     },
     "metadata": {},
     "output_type": "display_data"
    }
   ],
   "source": [
    "file = builtins.open(\"Bilder/Folie3.JPG\", \"rb\")\n",
    "image = file.read()\n",
    "bild_CO2 = widgets.Image(\n",
    "    value=image,\n",
    "    format='png',\n",
    "    width=700,\n",
    "   #height=128,\n",
    "    )\n",
    "bild_CO2"
   ]
  },
  {
   "cell_type": "code",
   "execution_count": 10,
   "id": "8e6410ca-7b1a-444b-850d-51395a7656d6",
   "metadata": {},
   "outputs": [
    {
     "data": {
      "application/vnd.jupyter.widget-view+json": {
       "model_id": "2cf5de22a191445c96459b5e64820c85",
       "version_major": 2,
       "version_minor": 0
      },
      "text/plain": [
       "A Jupyter Widget"
      ]
     },
     "metadata": {},
     "output_type": "display_data"
    }
   ],
   "source": [
    "file = builtins.open(\"Bilder/Folie5.JPG\", \"rb\")\n",
    "image = file.read()\n",
    "bild_CO3 = widgets.Image(\n",
    "    value=image,\n",
    "    format='png',\n",
    "    width=700,\n",
    "   #height=128,\n",
    "    )\n",
    "bild_CO3"
   ]
  },
  {
   "cell_type": "markdown",
   "id": "ee37425e-2899-4947-8716-b856958f6977",
   "metadata": {},
   "source": [
    "### <span style=\"font-family:Century Gothic;color:DarkCyan\">Aufgabe 2.3</span>\n",
    "Berechnen Sie die Steuerschuld $T$ für Jürgen, Jessica und Justus. Wie viel Prozent ihres Einkommens müssen die drei Individuen jeweils für die CO<sub>2</sub>-Steuer ausgeben?"
   ]
  },
  {
   "cell_type": "code",
   "execution_count": 11,
   "id": "91145663-f7c3-4ab7-9fef-1d03c6406de0",
   "metadata": {},
   "outputs": [
    {
     "data": {
      "application/vnd.jupyter.widget-view+json": {
       "model_id": "2a3fab8c86dd4b2b8c9f98412257a57c",
       "version_major": 2,
       "version_minor": 0
      },
      "text/plain": [
       "A Jupyter Widget"
      ]
     },
     "metadata": {},
     "output_type": "display_data"
    }
   ],
   "source": [
    "text_13 = widgets.IntText(\n",
    "    value=0,\n",
    "    description='Jürgen',\n",
    "    disabled=False\n",
    ")\n",
    "\n",
    "tt = widgets.Label(\n",
    "        value=\"% des Einkommens\",\n",
    "        placeholder='Some LaTeX',\n",
    "        description='Some LaTeX',\n",
    "        disabled=False\n",
    ")\n",
    "\n",
    "button_13 = widgets.Button(\n",
    "    description='Auswertung',\n",
    "    disabled=False,\n",
    "    button_style='', # 'success', 'info', 'warning', 'danger' or ''\n",
    "    tooltip='Bitte klicken.',\n",
    "    #icon='check' # (FontAwesome names without the `fa-` prefix)\n",
    ")\n",
    "\n",
    "# define function\n",
    "def check(button_instance):\n",
    "  if text_13.value  == 31:\n",
    "    button_13.button_style = 'success'\n",
    "    button_13.description = 'Richtig!'\n",
    "  else:\n",
    "    button_13.button_style = 'danger'\n",
    "    button_13.description = 'Leider falsch.'\n",
    "\n",
    "# set function as on_click on button\n",
    "button_13.on_click(check)\n",
    "\n",
    "# nebeneinander in Box anzeigen\n",
    "items = [text_13, tt, button_13]\n",
    "box_13 = Box(children=items)\n",
    "display(box_13) # <- this one command displays all children"
   ]
  },
  {
   "cell_type": "code",
   "execution_count": 12,
   "id": "629e6727-d285-49e2-877b-cd324763883c",
   "metadata": {},
   "outputs": [
    {
     "data": {
      "application/vnd.jupyter.widget-view+json": {
       "model_id": "715a3f49d064476eb3e03524a0835940",
       "version_major": 2,
       "version_minor": 0
      },
      "text/plain": [
       "A Jupyter Widget"
      ]
     },
     "metadata": {},
     "output_type": "display_data"
    }
   ],
   "source": [
    "text_14 = widgets.IntText(\n",
    "    value=0,\n",
    "    description='Jessica',\n",
    "    disabled=False\n",
    ")\n",
    "\n",
    "tt = widgets.Label(\n",
    "        value=\"% des Einkommens\",\n",
    "        placeholder='Some LaTeX',\n",
    "        description='Some LaTeX',\n",
    "        disabled=False\n",
    ")\n",
    "\n",
    "button_14 = widgets.Button(\n",
    "    description='Auswertung',\n",
    "    disabled=False,\n",
    "    button_style='', # 'success', 'info', 'warning', 'danger' or ''\n",
    "    tooltip='Bitte klicken.',\n",
    "    #icon='check' # (FontAwesome names without the `fa-` prefix)\n",
    ")\n",
    "\n",
    "# define function\n",
    "def check(button_instance):\n",
    "  if text_14.value  == 27:\n",
    "    button_14.button_style = 'success'\n",
    "    button_14.description = 'Richtig!'\n",
    "  else:\n",
    "    button_14.button_style = 'danger'\n",
    "    button_14.description = 'Leider falsch.'\n",
    "\n",
    "# set function as on_click on button\n",
    "button_14.on_click(check)\n",
    "\n",
    "# nebeneinander in Box anzeigen\n",
    "items = [text_14, tt, button_14]\n",
    "box_14 = Box(children=items)\n",
    "display(box_14) # <- this one command displays all children"
   ]
  },
  {
   "cell_type": "code",
   "execution_count": 13,
   "id": "37983740-2c37-404e-b55f-ac7d9f7c79a5",
   "metadata": {},
   "outputs": [
    {
     "data": {
      "application/vnd.jupyter.widget-view+json": {
       "model_id": "ad1540e407404a9dba386e3e5b06eb9d",
       "version_major": 2,
       "version_minor": 0
      },
      "text/plain": [
       "A Jupyter Widget"
      ]
     },
     "metadata": {},
     "output_type": "display_data"
    }
   ],
   "source": [
    "text_15 = widgets.IntText(\n",
    "    value=0,\n",
    "    description='Justus',\n",
    "    disabled=False\n",
    ")\n",
    "\n",
    "tt = widgets.Label(\n",
    "        value=\"% des Einkommens\",\n",
    "        placeholder='Some LaTeX',\n",
    "        description='Some LaTeX',\n",
    "        disabled=False\n",
    ")\n",
    "\n",
    "button_15 = widgets.Button(\n",
    "    description='Auswertung',\n",
    "    disabled=False,\n",
    "    button_style='', # 'success', 'info', 'warning', 'danger' or ''\n",
    "    tooltip='Bitte klicken.',\n",
    "    #icon='check' # (FontAwesome names without the `fa-` prefix)\n",
    ")\n",
    "\n",
    "# define function\n",
    "def check(button_instance):\n",
    "  if text_15.value  == 16:\n",
    "    button_15.button_style = 'success'\n",
    "    button_15.description = 'Richtig!'\n",
    "  else:\n",
    "    button_15.button_style = 'danger'\n",
    "    button_15.description = 'Leider falsch.'\n",
    "\n",
    "# set function as on_click on button\n",
    "button_15.on_click(check)\n",
    "\n",
    "# nebeneinander in Box anzeigen\n",
    "items = [text_15, tt, button_15]\n",
    "box_15 = Box(children=items)\n",
    "display(box_15) # <- this one command displays all children"
   ]
  },
  {
   "cell_type": "markdown",
   "id": "a1b4c3d1-2262-4a10-ad76-8976bf872000",
   "metadata": {},
   "source": [
    "### <span style=\"font-family:Century Gothic;color:DarkCyan\">Aufgabe 2.4</span>\n",
    "Was lässt sich hieraus über die Verteilungswirkung der CO<sub>2</sub> Steuer schlussfolgern?\n",
    "\n",
    "*Diese Aufgabe wird in der Präsenzveranstaltung besprochen.*\n"
   ]
  },
  {
   "cell_type": "markdown",
   "id": "16ac087b-85f9-471c-88f2-b36f27c55b55",
   "metadata": {},
   "source": [
    "## <span style=\"font-family:Century Gothic;color:DarkCyan\">Aufgabe 3</span>\n",
    "Das Metallunternehmen M verursacht mit seinem Produktionsprozess $z$ Tonnen CO<sub>2</sub>. Die sozialen Grenzkosten hierfür betragen $SGK_M=5z$. Der private Grenznutzen $PGN$ liegt konstant bei 100€.\n",
    "\n",
    "### <span style=\"font-family:Century Gothic;color:DarkCyan\">Aufgabe 3.1</span>\n",
    "Ermitteln Sie graphisch das soziale Optimum SO in untenstehender Grafik. Verifizieren Sie Ihr Ergebnis, indem Sie den Slider *SO* von links nach rechts schieben."
   ]
  },
  {
   "cell_type": "code",
   "execution_count": 22,
   "id": "d0daa6bd-44d0-4a07-bc08-082bbd7414a9",
   "metadata": {},
   "outputs": [
    {
     "data": {
      "application/vnd.jupyter.widget-view+json": {
       "model_id": "6774ded4151d4f7882b4501f54956883",
       "version_major": 2,
       "version_minor": 0
      },
      "text/plain": [
       "A Jupyter Widget"
      ]
     },
     "metadata": {},
     "output_type": "display_data"
    }
   ],
   "source": [
    "%matplotlib inline\n",
    "\n",
    "def f(SO, R):\n",
    "    plt.figure(2)\n",
    "    x = np.linspace(0, 100, num=200)\n",
    "    # Grenzkosten\n",
    "    plt.plot(x,SO*(5*x),color=\"maroon\")\n",
    "    plt.text(SO*40, SO*175,'$SGK_M$',color=\"maroon\")\n",
    "    # Grenznutzen\n",
    "    plt.axhline(y=SO*100,color=\"Darkcyan\")\n",
    "    plt.text(SO*90, SO*110,'$PGN$',color=\"Darkcyan\")\n",
    "    # Soziales Optimum\n",
    "    plt.scatter(SO*20,SO*100,color=\"black\")\n",
    "    plt.text(SO*22, SO*105,'$SO$',color=\"black\")\n",
    "    # Mengenregulierung\n",
    "    plt.axvline(x=R*20,color=\"black\")\n",
    "    plt.text(R*21, R*175,'Menge R',color=\"black\")\n",
    "    # Settings\n",
    "    plt.ylim(0, 200)\n",
    "    plt.xlabel(\"Menge $CO_2$ Ausstoß $(z)$\")\n",
    "    plt.margins(x=0)\n",
    "    plt.ylabel(\"Kosten $CO_2$ Ausstoß\")\n",
    "    plt.show()\n",
    "    \n",
    "\n",
    "interactive_plot = interactive(f, SO=(0, 1,1), R=(0, 1,1))\n",
    "\n",
    "interactive_plot"
   ]
  },
  {
   "cell_type": "markdown",
   "id": "ea46df81-9e97-4123-87eb-65e22c4b7907",
   "metadata": {},
   "source": [
    "### <span style=\"font-family:Century Gothic;color:DarkCyan\">Aufgabe 3.2</span>\n",
    "Der Staat reguliert die Menge an CO<sub>2</sub> und beschließt, diese auf die sozial optimale Menge $R$ zu begrenzen. Zeichnen Sie diese Mengenregulierung in obenstehendes Diagramm ein. Verifizieren Sie Ihr Ergebnis, indem Sie den Slider *R* von links nach rechts schieben.\n",
    "\n",
    "### <span style=\"font-family:Century Gothic;color:DarkCyan\">Aufgabe 3.3</span>\n",
    "Neben dem Metallunternehmen *M* verursacht die Produktion des Lebensmittelherstellers *L* ebenfalls CO<sub>2</sub>. Die sozialen Grenzkosten hierfür betragen $SGK_L=2,5z$. Zeichnen Sie die Grenzkostenfunktion des Lebensmittelherstellers ebenfalls in die Grafik ein. Verifizieren Sie Ihr Ergebnis, indem Sie den Slider L von links nach rechts schieben."
   ]
  },
  {
   "cell_type": "code",
   "execution_count": 15,
   "id": "655a5e95-df4a-45a6-b124-63cd8688054e",
   "metadata": {},
   "outputs": [
    {
     "data": {
      "application/vnd.jupyter.widget-view+json": {
       "model_id": "98871e726bc645e69db04cbc46fa874e",
       "version_major": 2,
       "version_minor": 0
      },
      "text/plain": [
       "A Jupyter Widget"
      ]
     },
     "metadata": {},
     "output_type": "display_data"
    }
   ],
   "source": [
    "def f(L,SO,R):\n",
    "    plt.figure(2)\n",
    "    x = np.linspace(0, 100, num=200)\n",
    "    # Grenzkosten Metall\n",
    "    plt.plot(x,L*(5*x),color=\"maroon\")\n",
    "    plt.text(L*40, L*175,'$SGK_M$',color=\"maroon\")\n",
    "    # Grenzkosten Lebensmittel\n",
    "    plt.plot(x,L*(2.5*x),color=\"maroon\")\n",
    "    plt.text(L*75, L*175,'$SGK_L$',color=\"maroon\")\n",
    "    # Grenzkosten Gesamt\n",
    "    plt.plot(x,SO*(1.66666666666666666*x),color=\"maroon\")\n",
    "    plt.text(SO*75, SO*135,'$SGK_T$',color=\"maroon\")\n",
    "    # Grenznutzen\n",
    "    plt.axhline(y=L*100,color=\"Darkcyan\")\n",
    "    plt.text(L*90, L*110,'$PGN$',color=\"Darkcyan\")\n",
    "    # Soziales Optimum\n",
    "    plt.scatter(SO*60,SO*100,color=\"black\")\n",
    "    plt.text(SO*62, SO*105,'$SO$',color=\"black\")\n",
    "    # Mengenregulierung\n",
    "    plt.axvline(x=R*30,color=\"black\")  \n",
    "    # Settings\n",
    "    plt.ylim(0, 200)\n",
    "    plt.xlabel(\"Menge $CO_2$ Ausstoß $(z)$\")\n",
    "    plt.margins(x=0)\n",
    "    plt.ylabel(\"Kosten $CO_2$ Ausstoß\")\n",
    "    plt.show()\n",
    "    \n",
    "\n",
    "interactive_plot = interactive(f, L=(0, 1,1), SO=(0, 1,1), R=(0, 1,1))\n",
    "\n",
    "interactive_plot"
   ]
  },
  {
   "cell_type": "markdown",
   "id": "e571834c-bf41-41af-a7b0-b9944b5a4bbc",
   "metadata": {},
   "source": [
    "### <span style=\"font-family:Century Gothic;color:DarkCyan\">Aufgabe 3.4</span>\n",
    "Ermitteln Sie graphisch das neue soziale Optimum. Verifizieren Sie Ihr Ergebnis, indem Sie den Slider SO von links nach rechts schieben.\n",
    "\n",
    "*Lösungshinweis: Die beiden sozialen Grenzkostenfunktionen müssen aggregiert werden.*\n",
    "\n",
    "\n",
    "### <span style=\"font-family:Century Gothic;color:DarkCyan\">Aufgabe 3.5</span>\n",
    "Der Staat passt die Menge an CO<sub>2</sub> an das neue soziale Optimum an und verfügt, dass beide Unternehmen jeweils die Hälfte der regulierten Gesamtmenge an CO<sub>2</sub> emittieren dürfen. Zeichnen Sie diese Mengenregulierung in das Diagramm ein. Verifizieren Sie Ihr Ergebnis, indem Sie den Slider R von links nach rechts schieben.\n",
    "\n",
    "### <span style=\"font-family:Century Gothic;color:DarkCyan\">Aufgabe 3.6</span>\n",
    "Diskutieren Sie kurz, ob diese Lösung effizient ist und welche Anpassungen der Staat gegebenenfalls vornehmen muss, um eine effiziente Lösung zu erhalten. .\n",
    "\n",
    "*Aufgabe 3.6 wird in der Präsenzveranstaltung besprochen.*"
   ]
  },
  {
   "cell_type": "markdown",
   "id": "ab068813-b22d-4aa2-bb81-9487f71002b9",
   "metadata": {
    "tags": []
   },
   "source": [
    "## <span style=\"font-family:Century Gothic;color:DarkCyan\">Aufgabe 4</span>\n",
    "\n",
    "Anstelle einer fixen Mengenvorgabe für jedes Unternehmen führt der Staat nun einen Zertifikatehandel zwischen den Unternehmen *M* und *L* ein.\n",
    "\n",
    "### <span style=\"font-family:Century Gothic;color:DarkCyan\">Aufgabe 4.1</span>\n",
    "Schauen Sie sich folgendes Video zur Funktionsweise des Europäische Emissionshandels (EU-ETS) an.\n",
    "\n",
    "https://www.youtube.com/watch?v=wChY_DrebYw\n",
    "\n",
    "### <span style=\"font-family:Century Gothic;color:DarkCyan\">Aufgabe 4.2</span>\n",
    "Die Anzahl an insgesamt vergebenen Zertifikaten entspricht der sozial optimalen Menge an Emissionen. Die beiden Unternehmen *M* und *L* bekommen zunächst jeweils die Hälfte der Zertifikate zugeteilt und dürfen die Zertifikate im Anschluss handeln. Wie viele Zertifikate wird jedes der Unternehmen kaufen bzw. verkaufen?"
   ]
  },
  {
   "cell_type": "code",
   "execution_count": 16,
   "id": "b1adaac5-9b2f-4b5c-aead-d44263703d3a",
   "metadata": {},
   "outputs": [
    {
     "data": {
      "application/vnd.jupyter.widget-view+json": {
       "model_id": "8a702d69262b42f9999931cd20ff6528",
       "version_major": 2,
       "version_minor": 0
      },
      "text/plain": [
       "A Jupyter Widget"
      ]
     },
     "metadata": {},
     "output_type": "display_data"
    },
    {
     "data": {
      "application/vnd.jupyter.widget-view+json": {
       "model_id": "479a6214c8cd4e47a49358d2093ba022",
       "version_major": 2,
       "version_minor": 0
      },
      "text/plain": [
       "A Jupyter Widget"
      ]
     },
     "metadata": {},
     "output_type": "display_data"
    }
   ],
   "source": [
    "opinion_12 = widgets.RadioButtons(\n",
    "    options=['L kauft 10 Zertifikate von M','M kauft 10 Zertifikate von L','L kauft 30 Zertifikate von M'],\n",
    "    value=None,\n",
    "    #description='Faktoren',\n",
    "    disabled=False\n",
    ")\n",
    "\n",
    "button_12 = widgets.Button(\n",
    "    description='Auswertung',\n",
    "    disabled=False,\n",
    "    button_style='', # 'success', 'info', 'warning', 'danger' or ''\n",
    "    tooltip='Bitte klicken.',\n",
    "    #icon='check' # (FontAwesome names without the `fa-` prefix)\n",
    ")\n",
    "\n",
    "# define function\n",
    "def check(button_12):\n",
    "  if opinion_12.value == 'L kauft 10 Zertifikate von M':\n",
    "    button_12.button_style = 'success'\n",
    "    button_12.description = 'Richtig!'\n",
    "  else:\n",
    "    button_12.button_style = 'danger'\n",
    "    button_12.description = 'Leider Falsch'\n",
    "\n",
    "# set function as on_click on button\n",
    "button_12.on_click(check)\n",
    "\n",
    "display(opinion_12)\n",
    "display(button_12)"
   ]
  },
  {
   "cell_type": "markdown",
   "id": "ea80f9e9-e124-4b32-a7d3-2e83deec6c5c",
   "metadata": {},
   "source": [
    "### <span style=\"font-family:Century Gothic;color:DarkCyan\">Aufgabe 4.3</span>\n",
    "In der Präsenzveranstaltung werden wir ein Planspiel durchführen, das diesen Emissionshandel simuliert. Hierbei können Zertifikate verkauft und gekauft werden oder eine Modernisierung durchgeführt werden. Bitte machen Sie sich vor der Präsenzveranstaltung kurz mit untenstehender Anleitung vertraut."
   ]
  },
  {
   "cell_type": "code",
   "execution_count": 17,
   "id": "4bb12936-229e-440c-a079-a843c9949bc0",
   "metadata": {},
   "outputs": [
    {
     "data": {
      "application/vnd.jupyter.widget-view+json": {
       "model_id": "f594ea5bf77e41b2ad1f6458edef9361",
       "version_major": 2,
       "version_minor": 0
      },
      "text/plain": [
       "A Jupyter Widget"
      ]
     },
     "metadata": {},
     "output_type": "display_data"
    }
   ],
   "source": [
    "file = builtins.open(\"Bilder/Planspiel_Folie1.JPG\", \"rb\")\n",
    "image = file.read()\n",
    "bild_1 = widgets.Image(\n",
    "    value=image,\n",
    "    format='png',\n",
    "    width=700,\n",
    "    )\n",
    "bild_1"
   ]
  },
  {
   "cell_type": "code",
   "execution_count": 18,
   "id": "a600632d-2f2a-44e5-920c-28e33f03e106",
   "metadata": {},
   "outputs": [
    {
     "data": {
      "application/vnd.jupyter.widget-view+json": {
       "model_id": "2776c2d739204b8c935cc415156743d2",
       "version_major": 2,
       "version_minor": 0
      },
      "text/plain": [
       "A Jupyter Widget"
      ]
     },
     "metadata": {},
     "output_type": "display_data"
    }
   ],
   "source": [
    "file = builtins.open(\"Bilder/Planspiel_Folie2.JPG\", \"rb\")\n",
    "image = file.read()\n",
    "bild_2 = widgets.Image(\n",
    "    value=image,\n",
    "    format='jpg',\n",
    "    width=700,\n",
    "    )\n",
    "bild_2"
   ]
  },
  {
   "cell_type": "code",
   "execution_count": 19,
   "id": "0cb28b93-4dac-4843-b34a-390f56759b89",
   "metadata": {},
   "outputs": [
    {
     "data": {
      "application/vnd.jupyter.widget-view+json": {
       "model_id": "ebb9ce72497a4fde97513b41892f1335",
       "version_major": 2,
       "version_minor": 0
      },
      "text/plain": [
       "A Jupyter Widget"
      ]
     },
     "metadata": {},
     "output_type": "display_data"
    }
   ],
   "source": [
    "file = builtins.open(\"Bilder/Planspiel_Folie3.JPG\", \"rb\")\n",
    "image3 = file.read()\n",
    "\n",
    "file = builtins.open(\"Bilder/Planspiel_Folie4.JPG\", \"rb\")\n",
    "image4 = file.read()\n",
    "\n",
    "file = builtins.open(\"Bilder/Planspiel_Folie5.JPG\", \"rb\")\n",
    "image5 = file.read()\n",
    "\n",
    "\n",
    "accordion_so = widgets.Accordion([\n",
    "    widgets.Image(\n",
    "    value=image3,\n",
    "    format='jpg',\n",
    "    height=100,\n",
    "    ),\n",
    "    widgets.Image(\n",
    "    value=image4,\n",
    "    format='jpg',\n",
    "    height=100,\n",
    "    ),\n",
    "    widgets.Image(\n",
    "    value=image5,\n",
    "    format='jpg',\n",
    "    height=100,\n",
    "    )], selected_index=None)\n",
    "accordion_so.set_title(0, 'Beispiel Zertifikat kaufen')\n",
    "accordion_so.set_title(1, 'Beispiel Zertifikat verkaufen')\n",
    "accordion_so.set_title(2, 'Beispiel Modernisierung')\n",
    "\n",
    "accordion_so"
   ]
  },
  {
   "cell_type": "code",
   "execution_count": null,
   "id": "f067dc1d-d4ea-449d-b49f-d65a250be092",
   "metadata": {},
   "outputs": [],
   "source": []
  }
 ],
 "metadata": {
  "kernelspec": {
   "display_name": "Python 3 (ipykernel)",
   "language": "python",
   "name": "python3"
  },
  "language_info": {
   "codemirror_mode": {
    "name": "ipython",
    "version": 3
   },
   "file_extension": ".py",
   "mimetype": "text/x-python",
   "name": "python",
   "nbconvert_exporter": "python",
   "pygments_lexer": "ipython3",
   "version": "3.7.3"
  }
 },
 "nbformat": 4,
 "nbformat_minor": 5
}
